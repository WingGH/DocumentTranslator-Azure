{
  "cells": [
    {
      "cell_type": "markdown",
      "source": [
        "### Document Translation"
      ],
      "metadata": {
        "nteract": {
          "transient": {
            "deleting": false
          }
        }
      }
    },
    {
      "cell_type": "code",
      "source": [
        "import requests\n",
        "import os\n",
        "\n",
        "# Construct the URL for the Document Translation API\n",
        "endpoint = \"https://your-cognitive-service-endpoint.cognitiveservices.azure.com/\"\n",
        "path = \"/translator/document:translate\"\n",
        "url = endpoint + path\n",
        "\n",
        "# Set up the headers with your subscription key\n",
        "headers = {\n",
        "    \"Ocp-Apim-Subscription-Key\": \"your_subscription_key\"\n",
        "}\n",
        "\n",
        "# Define the parameters for the translation request\n",
        "params = {\n",
        "    \"sourceLanguage\": \"en\",  # Source language code\n",
        "    \"targetLanguage\": \"zh-Hant\",  # Target language code\n",
        "    \"api-version\": \"2023-11-01-preview\"  # API version\n",
        "}\n",
        "\n",
        "# Specify the input and output file paths\n",
        "input_file = \"./input_document.docx\"  # Path to the input document\n",
        "output_file = \"./output_document.docx\"  # Path to save the translated document\n",
        "\n",
        "# Open the input file in binary mode\n",
        "with open(input_file, \"rb\") as document:\n",
        "    # Define the data to be sent with the request\n",
        "    data = {\n",
        "        \"document\": (os.path.basename(input_file), document, \"application/vnd.openxmlformats-officedocument.wordprocessingml.document\")\n",
        "    }\n",
        "\n",
        "    # Send the POST request to the Document Translation API\n",
        "    response = requests.post(url, headers=headers, files=data, params=params)\n",
        "\n",
        "    # Write the translated document to the output file\n",
        "    with open(output_file, \"wb\") as output_document:\n",
        "        output_document.write(response.content)\n"
      ],
      "outputs": [],
      "execution_count": null,
      "metadata": {}
    },
    {
      "cell_type": "markdown",
      "source": [
        "### Install python-docx"
      ],
      "metadata": {
        "nteract": {
          "transient": {
            "deleting": false
          }
        }
      }
    },
    {
      "cell_type": "code",
      "source": [
        "# Command to install the python-docx library\n",
        "# pip install python-docx"
      ],
      "outputs": [],
      "execution_count": null,
      "metadata": {
        "jupyter": {
          "source_hidden": false,
          "outputs_hidden": false
        },
        "nteract": {
          "transient": {
            "deleting": false
          }
        }
      }
    },
    {
      "cell_type": "markdown",
      "source": [
        "### Read Word Document\n"
      ],
      "metadata": {
        "nteract": {
          "transient": {
            "deleting": false
          }
        }
      }
    },
    {
      "cell_type": "code",
      "source": [
        "from docx import Document\n",
        "\n",
        "# Function to read and extract text from a Word document\n",
        "def read_word_document(file_path):\n",
        "    doc = Document(file_path)  # Load the document\n",
        "    full_text = []\n",
        "    for paragraph in doc.paragraphs:  # Iterate through paragraphs\n",
        "        full_text.append(paragraph.text)  # Add paragraph text to list\n",
        "    return '\\n'.join(full_text)  # Join paragraphs into a single string\n",
        "\n",
        "# Read the translated and original documents\n",
        "chinese_text = read_word_document('./output_document.docx')\n",
        "english_text = read_word_document('./input_document.docx')"
      ],
      "outputs": [],
      "execution_count": null,
      "metadata": {
        "jupyter": {
          "source_hidden": false,
          "outputs_hidden": false
        },
        "nteract": {
          "transient": {
            "deleting": false
          }
        }
      }
    },
    {
      "cell_type": "markdown",
      "source": [
        "### Compare Translations"
      ],
      "metadata": {
        "nteract": {
          "transient": {
            "deleting": false
          }
        }
      }
    },
    {
      "cell_type": "code",
      "source": [
        "import requests\n",
        "\n",
        "# Configuration for the OpenAI API\n",
        "API_KEY = \"your_api_key\"\n",
        "headers = {\n",
        "    \"Content-Type\": \"application/json\",\n",
        "    \"api-key\": API_KEY,\n",
        "}\n",
        "\n",
        "# Payload for the request to compare translations\n",
        "payload = {\n",
        "    \"messages\": [\n",
        "        {\"role\": \"system\", \"content\": \"You are a helpful assistant that compares translations.\"},\n",
        "        {\"role\": \"user\", \"content\": f\"Compare the following texts and check if the English text is an accurate translation of the Chinese text. Chinese: {chinese_text} English: {english_text}\"}\n",
        "    ],\n",
        "    \"temperature\": 0.7,  # Temperature setting for response randomness\n",
        "    \"top_p\": 0.95,  # Top-p sampling parameter\n",
        "    \"max_tokens\": 800  # Maximum tokens in the response\n",
        "}\n",
        "\n",
        "# Endpoint for the OpenAI API\n",
        "ENDPOINT = \"https://your-endpoint-url/openai/deployments/gpt-4o/chat/completions?api-version=2024-02-15-preview\"\n",
        "\n",
        "# Send request to the OpenAI API\n",
        "try:\n",
        "    response = requests.post(ENDPOINT, headers=headers, json=payload)\n",
        "    response.raise_for_status()  # Raise an error for bad responses\n",
        "except requests.RequestException as e:\n",
        "    raise SystemExit(f\"Failed to make the request. Error: {e}\")\n",
        "\n",
        "# Handle and print the response from the API\n",
        "comparison_result = response.json()\n",
        "print(comparison_result['choices'][0]['message']['content'])"
      ],
      "outputs": [],
      "execution_count": null,
      "metadata": {
        "jupyter": {
          "source_hidden": false,
          "outputs_hidden": false
        },
        "nteract": {
          "transient": {
            "deleting": false
          }
        }
      }
    }
  ],
  "metadata": {
    "kernelspec": {
      "display_name": "Python 3.10 - SDK v2",
      "language": "python",
      "name": "python310-sdkv2"
    },
    "language_info": {
      "codemirror_mode": {
        "name": "ipython",
        "version": 3
      },
      "file_extension": ".py",
      "mimetype": "text/x-python",
      "name": "python",
      "nbconvert_exporter": "python",
      "pygments_lexer": "ipython3",
      "version": "3.10.6"
    },
    "microsoft": {
      "ms_spell_check": {
        "ms_spell_check_language": "en"
      }
    },
    "nteract": {
      "version": "nteract-front-end@1.0.0"
    }
  },
  "nbformat": 4,
  "nbformat_minor": 2
}